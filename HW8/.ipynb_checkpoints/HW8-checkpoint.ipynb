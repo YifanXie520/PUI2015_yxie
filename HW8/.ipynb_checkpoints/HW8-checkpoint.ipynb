{
 "cells": [
  {
   "cell_type": "code",
   "execution_count": 8,
   "metadata": {
    "collapsed": false
   },
   "outputs": [
    {
     "name": "stdout",
     "output_type": "stream",
     "text": [
      "Populating the interactive namespace from numpy and matplotlib\n"
     ]
    },
    {
     "name": "stderr",
     "output_type": "stream",
     "text": [
      "WARNING: pylab import has clobbered these variables: ['pylab']\n",
      "`%matplotlib` prevents importing * from pylab and numpy\n"
     ]
    }
   ],
   "source": [
    "__author__ = \"Yifan Xie\"\n",
    "\n",
    "import numpy as np\n",
    "import pandas as pd\n",
    "import matplotlib.pyplot as pl\n",
    "import pylab \n",
    "import os\n",
    "\n",
    "%pylab inline"
   ]
  },
  {
   "cell_type": "code",
   "execution_count": 10,
   "metadata": {
    "collapsed": false
   },
   "outputs": [
    {
     "data": {
      "text/html": [
       "<div>\n",
       "<table border=\"1\" class=\"dataframe\">\n",
       "  <thead>\n",
       "    <tr style=\"text-align: right;\">\n",
       "      <th></th>\n",
       "      <th>id</th>\n",
       "      <th>team</th>\n",
       "      <th>player</th>\n",
       "      <th>MIN</th>\n",
       "      <th>FGM-A</th>\n",
       "      <th>3PM-A</th>\n",
       "      <th>FTM-A</th>\n",
       "      <th>OREB</th>\n",
       "      <th>DREB</th>\n",
       "      <th>REB</th>\n",
       "      <th>AST</th>\n",
       "      <th>STL</th>\n",
       "      <th>BLK</th>\n",
       "      <th>TO</th>\n",
       "      <th>PF</th>\n",
       "      <th>+/-</th>\n",
       "      <th>PTS</th>\n",
       "    </tr>\n",
       "  </thead>\n",
       "  <tbody>\n",
       "    <tr>\n",
       "      <th>0</th>\n",
       "      <td>400277722</td>\n",
       "      <td>Boston Celtics</td>\n",
       "      <td>Brandon Bass</td>\n",
       "      <td>28</td>\n",
       "      <td>6-11</td>\n",
       "      <td>0-0</td>\n",
       "      <td>3-4</td>\n",
       "      <td>6</td>\n",
       "      <td>5</td>\n",
       "      <td>11</td>\n",
       "      <td>1</td>\n",
       "      <td>0</td>\n",
       "      <td>0</td>\n",
       "      <td>1</td>\n",
       "      <td>2</td>\n",
       "      <td>-8</td>\n",
       "      <td>15</td>\n",
       "    </tr>\n",
       "    <tr>\n",
       "      <th>1</th>\n",
       "      <td>400277722</td>\n",
       "      <td>Boston Celtics</td>\n",
       "      <td>Paul Pierce</td>\n",
       "      <td>41</td>\n",
       "      <td>6-15</td>\n",
       "      <td>2-4</td>\n",
       "      <td>9-9</td>\n",
       "      <td>0</td>\n",
       "      <td>5</td>\n",
       "      <td>5</td>\n",
       "      <td>5</td>\n",
       "      <td>2</td>\n",
       "      <td>0</td>\n",
       "      <td>0</td>\n",
       "      <td>3</td>\n",
       "      <td>-17</td>\n",
       "      <td>23</td>\n",
       "    </tr>\n",
       "    <tr>\n",
       "      <th>2</th>\n",
       "      <td>400277722</td>\n",
       "      <td>Boston Celtics</td>\n",
       "      <td>Kevin Garnett</td>\n",
       "      <td>32</td>\n",
       "      <td>4-8</td>\n",
       "      <td>0-0</td>\n",
       "      <td>1-1</td>\n",
       "      <td>1</td>\n",
       "      <td>11</td>\n",
       "      <td>12</td>\n",
       "      <td>2</td>\n",
       "      <td>0</td>\n",
       "      <td>2</td>\n",
       "      <td>5</td>\n",
       "      <td>4</td>\n",
       "      <td>-4</td>\n",
       "      <td>9</td>\n",
       "    </tr>\n",
       "    <tr>\n",
       "      <th>3</th>\n",
       "      <td>400277722</td>\n",
       "      <td>Boston Celtics</td>\n",
       "      <td>Rajon Rondo</td>\n",
       "      <td>44</td>\n",
       "      <td>9-14</td>\n",
       "      <td>0-2</td>\n",
       "      <td>2-4</td>\n",
       "      <td>0</td>\n",
       "      <td>7</td>\n",
       "      <td>7</td>\n",
       "      <td>13</td>\n",
       "      <td>0</td>\n",
       "      <td>0</td>\n",
       "      <td>4</td>\n",
       "      <td>4</td>\n",
       "      <td>-13</td>\n",
       "      <td>20</td>\n",
       "    </tr>\n",
       "    <tr>\n",
       "      <th>4</th>\n",
       "      <td>400277722</td>\n",
       "      <td>Boston Celtics</td>\n",
       "      <td>Courtney Lee</td>\n",
       "      <td>24</td>\n",
       "      <td>5-6</td>\n",
       "      <td>1-1</td>\n",
       "      <td>0-0</td>\n",
       "      <td>0</td>\n",
       "      <td>1</td>\n",
       "      <td>1</td>\n",
       "      <td>1</td>\n",
       "      <td>0</td>\n",
       "      <td>0</td>\n",
       "      <td>1</td>\n",
       "      <td>5</td>\n",
       "      <td>-7</td>\n",
       "      <td>11</td>\n",
       "    </tr>\n",
       "  </tbody>\n",
       "</table>\n",
       "</div>"
      ],
      "text/plain": [
       "          id            team         player  MIN FGM-A 3PM-A FTM-A  OREB  \\\n",
       "0  400277722  Boston Celtics   Brandon Bass   28  6-11   0-0   3-4     6   \n",
       "1  400277722  Boston Celtics    Paul Pierce   41  6-15   2-4   9-9     0   \n",
       "2  400277722  Boston Celtics  Kevin Garnett   32   4-8   0-0   1-1     1   \n",
       "3  400277722  Boston Celtics    Rajon Rondo   44  9-14   0-2   2-4     0   \n",
       "4  400277722  Boston Celtics   Courtney Lee   24   5-6   1-1   0-0     0   \n",
       "\n",
       "   DREB  REB  AST  STL  BLK  TO  PF  +/-  PTS  \n",
       "0     5   11    1    0    0   1   2   -8   15  \n",
       "1     5    5    5    2    0   0   3  -17   23  \n",
       "2    11   12    2    0    2   5   4   -4    9  \n",
       "3     7    7   13    0    0   4   4  -13   20  \n",
       "4     1    1    1    0    0   1   5   -7   11  "
      ]
     },
     "execution_count": 10,
     "metadata": {},
     "output_type": "execute_result"
    }
   ],
   "source": [
    "players = pd.read_csv(\"players.csv\")\n",
    "players.head()"
   ]
  },
  {
   "cell_type": "code",
   "execution_count": 11,
   "metadata": {
    "collapsed": false
   },
   "outputs": [
    {
     "data": {
      "text/plain": [
       "<matplotlib.text.Text at 0x109779d10>"
      ]
     },
     "execution_count": 11,
     "metadata": {},
     "output_type": "execute_result"
    },
    {
     "data": {
      "image/png": "[encoded data removed]",
      "text/plain": [
       "<matplotlib.figure.Figure at 0x10693ae10>"
      ]
     },
     "metadata": {},
     "output_type": "display_data"
    }
   ],
   "source": [
    "pl.plot(players['MIN'], players['PTS'], 'o')\n",
    "pl.xlabel('Minites', fontsize = 12)\n",
    "pl.ylabel('Points', fontsize = 12)\n",
    "pl.title('Points and Minites per NBA Game of each Players')"
   ]
  }
 ],
 "metadata": {
  "kernelspec": {
   "display_name": "Python 2",
   "language": "python",
   "name": "python2"
  },
  "language_info": {
   "codemirror_mode": {
    "name": "ipython",
    "version": 2
   },
   "file_extension": ".py",
   "mimetype": "text/x-python",
   "name": "python",
   "nbconvert_exporter": "python",
   "pygments_lexer": "ipython2",
   "version": "2.7.10"
  }
 },
 "nbformat": 4,
 "nbformat_minor": 0
}
