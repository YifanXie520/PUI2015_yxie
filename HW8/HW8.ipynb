{
 "cells": [
  {
   "cell_type": "code",
   "execution_count": 2,
   "metadata": {
    "collapsed": false
   },
   "outputs": [
    {
     "name": "stdout",
     "output_type": "stream",
     "text": [
      "Populating the interactive namespace from numpy and matplotlib\n"
     ]
    },
    {
     "name": "stderr",
     "output_type": "stream",
     "text": [
      "WARNING: pylab import has clobbered these variables: ['pylab']\n",
      "`%matplotlib` prevents importing * from pylab and numpy\n"
     ]
    }
   ],
   "source": [
    "__author__ = \"Yifan Xie\"\n",
    "\n",
    "import numpy as np\n",
    "import pandas as pd\n",
    "import matplotlib.pyplot as pl\n",
    "import pylab \n",
    "import os\n",
    "\n",
    "%pylab inline"
   ]
  },
  {
   "cell_type": "code",
   "execution_count": 4,
   "metadata": {
    "collapsed": false,
    "scrolled": true
   },
   "outputs": [
    {
     "data": {
      "text/html": [
       "<div>\n",
       "<table border=\"1\" class=\"dataframe\">\n",
       "  <thead>\n",
       "    <tr style=\"text-align: right;\">\n",
       "      <th></th>\n",
       "      <th>id</th>\n",
       "      <th>team</th>\n",
       "      <th>player</th>\n",
       "      <th>MIN</th>\n",
       "      <th>FGM-A</th>\n",
       "      <th>3PM-A</th>\n",
       "      <th>FTM-A</th>\n",
       "      <th>OREB</th>\n",
       "      <th>DREB</th>\n",
       "      <th>REB</th>\n",
       "      <th>AST</th>\n",
       "      <th>STL</th>\n",
       "      <th>BLK</th>\n",
       "      <th>TO</th>\n",
       "      <th>PF</th>\n",
       "      <th>+/-</th>\n",
       "      <th>PTS</th>\n",
       "    </tr>\n",
       "  </thead>\n",
       "  <tbody>\n",
       "    <tr>\n",
       "      <th>0</th>\n",
       "      <td>400277722</td>\n",
       "      <td>Boston Celtics</td>\n",
       "      <td>Brandon Bass</td>\n",
       "      <td>28</td>\n",
       "      <td>6-11</td>\n",
       "      <td>0-0</td>\n",
       "      <td>3-4</td>\n",
       "      <td>6</td>\n",
       "      <td>5</td>\n",
       "      <td>11</td>\n",
       "      <td>1</td>\n",
       "      <td>0</td>\n",
       "      <td>0</td>\n",
       "      <td>1</td>\n",
       "      <td>2</td>\n",
       "      <td>-8</td>\n",
       "      <td>15</td>\n",
       "    </tr>\n",
       "    <tr>\n",
       "      <th>1</th>\n",
       "      <td>400277722</td>\n",
       "      <td>Boston Celtics</td>\n",
       "      <td>Paul Pierce</td>\n",
       "      <td>41</td>\n",
       "      <td>6-15</td>\n",
       "      <td>2-4</td>\n",
       "      <td>9-9</td>\n",
       "      <td>0</td>\n",
       "      <td>5</td>\n",
       "      <td>5</td>\n",
       "      <td>5</td>\n",
       "      <td>2</td>\n",
       "      <td>0</td>\n",
       "      <td>0</td>\n",
       "      <td>3</td>\n",
       "      <td>-17</td>\n",
       "      <td>23</td>\n",
       "    </tr>\n",
       "    <tr>\n",
       "      <th>2</th>\n",
       "      <td>400277722</td>\n",
       "      <td>Boston Celtics</td>\n",
       "      <td>Kevin Garnett</td>\n",
       "      <td>32</td>\n",
       "      <td>4-8</td>\n",
       "      <td>0-0</td>\n",
       "      <td>1-1</td>\n",
       "      <td>1</td>\n",
       "      <td>11</td>\n",
       "      <td>12</td>\n",
       "      <td>2</td>\n",
       "      <td>0</td>\n",
       "      <td>2</td>\n",
       "      <td>5</td>\n",
       "      <td>4</td>\n",
       "      <td>-4</td>\n",
       "      <td>9</td>\n",
       "    </tr>\n",
       "    <tr>\n",
       "      <th>3</th>\n",
       "      <td>400277722</td>\n",
       "      <td>Boston Celtics</td>\n",
       "      <td>Rajon Rondo</td>\n",
       "      <td>44</td>\n",
       "      <td>9-14</td>\n",
       "      <td>0-2</td>\n",
       "      <td>2-4</td>\n",
       "      <td>0</td>\n",
       "      <td>7</td>\n",
       "      <td>7</td>\n",
       "      <td>13</td>\n",
       "      <td>0</td>\n",
       "      <td>0</td>\n",
       "      <td>4</td>\n",
       "      <td>4</td>\n",
       "      <td>-13</td>\n",
       "      <td>20</td>\n",
       "    </tr>\n",
       "    <tr>\n",
       "      <th>4</th>\n",
       "      <td>400277722</td>\n",
       "      <td>Boston Celtics</td>\n",
       "      <td>Courtney Lee</td>\n",
       "      <td>24</td>\n",
       "      <td>5-6</td>\n",
       "      <td>1-1</td>\n",
       "      <td>0-0</td>\n",
       "      <td>0</td>\n",
       "      <td>1</td>\n",
       "      <td>1</td>\n",
       "      <td>1</td>\n",
       "      <td>0</td>\n",
       "      <td>0</td>\n",
       "      <td>1</td>\n",
       "      <td>5</td>\n",
       "      <td>-7</td>\n",
       "      <td>11</td>\n",
       "    </tr>\n",
       "  </tbody>\n",
       "</table>\n",
       "</div>"
      ],
      "text/plain": [
       "          id            team         player  MIN FGM-A 3PM-A FTM-A  OREB  \\\n",
       "0  400277722  Boston Celtics   Brandon Bass   28  6-11   0-0   3-4     6   \n",
       "1  400277722  Boston Celtics    Paul Pierce   41  6-15   2-4   9-9     0   \n",
       "2  400277722  Boston Celtics  Kevin Garnett   32   4-8   0-0   1-1     1   \n",
       "3  400277722  Boston Celtics    Rajon Rondo   44  9-14   0-2   2-4     0   \n",
       "4  400277722  Boston Celtics   Courtney Lee   24   5-6   1-1   0-0     0   \n",
       "\n",
       "   DREB  REB  AST  STL  BLK  TO  PF  +/-  PTS  \n",
       "0     5   11    1    0    0   1   2   -8   15  \n",
       "1     5    5    5    2    0   0   3  -17   23  \n",
       "2    11   12    2    0    2   5   4   -4    9  \n",
       "3     7    7   13    0    0   4   4  -13   20  \n",
       "4     1    1    1    0    0   1   5   -7   11  "
      ]
     },
     "execution_count": 4,
     "metadata": {},
     "output_type": "execute_result"
    }
   ],
   "source": [
    "players = pd.read_csv(\"players.csv\")\n",
    "players.head()"
   ]
  },
  {
   "cell_type": "code",
   "execution_count": 6,
   "metadata": {
    "collapsed": false
   },
   "outputs": [
    {
     "data": {
      "text/plain": [
       "0         Boston Celtics\n",
       "1         Boston Celtics\n",
       "2         Boston Celtics\n",
       "3         Boston Celtics\n",
       "4         Boston Celtics\n",
       "5         Boston Celtics\n",
       "6         Boston Celtics\n",
       "7         Boston Celtics\n",
       "8         Boston Celtics\n",
       "9         Boston Celtics\n",
       "10        Boston Celtics\n",
       "11        Boston Celtics\n",
       "12        Boston Celtics\n",
       "13            Miami Heat\n",
       "14            Miami Heat\n",
       "15            Miami Heat\n",
       "16            Miami Heat\n",
       "17            Miami Heat\n",
       "18            Miami Heat\n",
       "19            Miami Heat\n",
       "20            Miami Heat\n",
       "21            Miami Heat\n",
       "22            Miami Heat\n",
       "23            Miami Heat\n",
       "24            Miami Heat\n",
       "25            Miami Heat\n",
       "26       Milwaukee Bucks\n",
       "27       Milwaukee Bucks\n",
       "28       Milwaukee Bucks\n",
       "29       Milwaukee Bucks\n",
       "             ...        \n",
       "48        Boston Celtics\n",
       "49        Boston Celtics\n",
       "50        Boston Celtics\n",
       "51        Boston Celtics\n",
       "52        Boston Celtics\n",
       "53        Boston Celtics\n",
       "54        Boston Celtics\n",
       "55        Boston Celtics\n",
       "56        Boston Celtics\n",
       "57        Boston Celtics\n",
       "58        Boston Celtics\n",
       "59        Boston Celtics\n",
       "60        Boston Celtics\n",
       "61        Boston Celtics\n",
       "62        Boston Celtics\n",
       "63        Boston Celtics\n",
       "64        Boston Celtics\n",
       "65    Washington Wizards\n",
       "66    Washington Wizards\n",
       "67    Washington Wizards\n",
       "68    Washington Wizards\n",
       "69    Washington Wizards\n",
       "70    Washington Wizards\n",
       "71    Washington Wizards\n",
       "72    Washington Wizards\n",
       "73    Washington Wizards\n",
       "74    Washington Wizards\n",
       "75    Washington Wizards\n",
       "76    Washington Wizards\n",
       "77    Washington Wizards\n",
       "Name: team, dtype: object"
      ]
     },
     "execution_count": 6,
     "metadata": {},
     "output_type": "execute_result"
    }
   ],
   "source": [
    "players.team"
   ]
  },
  {
   "cell_type": "code",
   "execution_count": 26,
   "metadata": {
    "collapsed": true
   },
   "outputs": [],
   "source": [
    "Boston_Celtics = players[players['team'] == 'Boston Celtics']\n",
    "Boston_Celtics.reset_index(level = None, drop = False, inplace = True)\n",
    "\n",
    "Miami_Heats= players[players['team'] == 'Miami Heat']\n",
    "Miami_Heats.reset_index(level = None, drop = False, inplace = True)\n",
    "\n",
    "Milwaukee_Bucks= players[players['team'] == 'Milwaukee Bucks']\n",
    "Milwaukee_Bucks.reset_index(level = None, drop = False, inplace = True)\n",
    "\n",
    "Washington_Wizards= players[players['team'] == 'Washington Wizards']\n",
    "Washington_Wizards.reset_index(level = None, drop = False, inplace = True)"
   ]
  },
  {
   "cell_type": "code",
   "execution_count": 28,
   "metadata": {
    "collapsed": false
   },
   "outputs": [
    {
     "data": {
      "text/plain": [
       "<matplotlib.legend.Legend at 0x1092c9a90>"
      ]
     },
     "execution_count": 28,
     "metadata": {},
     "output_type": "execute_result"
    },
    {
     "data": {
      "image/png": "[encoded data removed]",
      "text/plain": [
       "<matplotlib.figure.Figure at 0x1091fe510>"
      ]
     },
     "metadata": {},
     "output_type": "display_data"
    }
   ],
   "source": [
    "pl.figure(figsize = (10,10))\n",
    "pl.plot(Boston_Celtics['MIN'], Boston_Celtics['PTS'], 'o', label = 'Boston Celtics', color = \"green\")\n",
    "pl.plot(Miami_Heats['MIN'], Miami_Heats['PTS'], 'o', label = 'Miami Heats', color =\"red\")\n",
    "pl.plot(Milwaukee_Bucks['MIN'], Milwaukee_Bucks['PTS'], 'o', label = 'Milwaukee Bucks', color = \"yellow\")\n",
    "pl.plot(Washington_Wizards['MIN'], Washington_Wizards['PTS'], 'o', label = 'Washington Wizards', color = \"blue\")\n",
    "\n",
    "pl.xlabel('Minutes', fontsize = 14)\n",
    "pl.ylabel('Points', fontsize = 14) \n",
    "pl.title ('Points and Minites per NBA Game of each Players', fontsize = 16)\n",
    "pl.legend(loc = 'best', fontsize = 12)"
   ]
  },
  {
   "cell_type": "code",
   "execution_count": null,
   "metadata": {
    "collapsed": true
   },
   "outputs": [],
   "source": []
  }
 ],
 "metadata": {
  "kernelspec": {
   "display_name": "Python 2",
   "language": "python",
   "name": "python2"
  },
  "language_info": {
   "codemirror_mode": {
    "name": "ipython",
    "version": 2
   },
   "file_extension": ".py",
   "mimetype": "text/x-python",
   "name": "python",
   "nbconvert_exporter": "python",
   "pygments_lexer": "ipython2",
   "version": "2.7.10"
  }
 },
 "nbformat": 4,
 "nbformat_minor": 0
}
