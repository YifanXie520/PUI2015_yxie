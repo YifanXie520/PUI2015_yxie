{
 "cells": [
  {
   "cell_type": "markdown",
   "metadata": {},
   "source": [
    "##GENDER INCOME GAP\n",
    "\n",
    "you may know that it is estimated that women earn about 78% of men in the same job position. \n",
    "Can we test that on NYC income data? Can we turn that into a prediction: if you get hired at a certain stipend as a men, what should you expect to make as a woman? (or from the point of view of a job employer, perhaps not one with a very strong moral compass, what should I offer a woman job candidate, given what I would offer a man for the same job?)\n",
    "\n",
    "\n"
   ]
  },
  {
   "cell_type": "code",
   "execution_count": 45,
   "metadata": {
    "collapsed": false
   },
   "outputs": [
    {
     "name": "stdout",
     "output_type": "stream",
     "text": [
      "Populating the interactive namespace from numpy and matplotlib\n"
     ]
    }
   ],
   "source": [
    "import pandas as pd\n",
    "import sys\n",
    "import os\n",
    "import numpy \n",
    "import pylab as pl\n",
    "import json\n",
    "import os\n",
    "%pylab inline\n",
    "import statsmodels.api as api\n",
    "from scipy import stats"
   ]
  },
  {
   "cell_type": "code",
   "execution_count": 15,
   "metadata": {
    "collapsed": false
   },
   "outputs": [
    {
     "data": {
      "text/html": [
       "\n",
       "        <iframe\n",
       "            width=\"400\"\n",
       "            height=\"300\"\n",
       "            src=\"https://www.youtube.com/embed/G_ikzQM93W8\"\n",
       "            frameborder=\"0\"\n",
       "            allowfullscreen\n",
       "        ></iframe>\n",
       "        "
      ],
      "text/plain": [
       "<IPython.lib.display.YouTubeVideo at 0x108b442d0>"
      ]
     },
     "execution_count": 15,
     "metadata": {},
     "output_type": "execute_result"
    }
   ],
   "source": [
    "#The gender gap(non mandatory viewing)\n",
    "from IPython.display import YouTubeVideo\n",
    "YouTubeVideo(\"G_ikzQM93W8\")"
   ]
  },
  {
   "cell_type": "markdown",
   "metadata": {},
   "source": [
    "the Census data on income\n",
    "http://www.census.gov/hhes/www/cpstables/032015/perinc/pinc03_000.htm\n",
    "\n",
    "unfortunately a lot of the links that i originally used a few weeks ago are broken now. I posted the data I had used on the class webpage here (together with data for the buildings & energy homework): http://cosmo.nyu.edu/~fb55/UI_CUSP_2015/data"
   ]
  },
  {
   "cell_type": "code",
   "execution_count": 46,
   "metadata": {
    "collapsed": false,
    "scrolled": false
   },
   "outputs": [],
   "source": [
    "#to use the url just pas it to pandas read_excell\n",
    "url=\"http://cosmo.nyu.edu/~fb55/UI_CUSP_2015/data/\"\n",
    "#split your data by male and female, for example you can load the data into 2 disctionary. other variables may be relevant: for example race.\n",
    "#the names are not informative, and i am not giving you any meta data to find out what is in each file. \n",
    "# 08_2 files are male, 08_3 are female, and I am leaving in the lines of code that read the male files into races\n",
    "allmales={}\n",
    "allfemales={}\n",
    "allmales['all']=pd.read_excel(url+'/pinc08_2_1_1.xls',header=9)#%s/pinc03_2_1_1.xls'%url, header=9)\n",
    "allmales['white']=pd.read_excel(url+'/pinc08_2_1_4.xls', header=9)\n",
    "allmales['black']=pd.read_excel(url+'/pinc08_2_1_6.xls', header=9)\n",
    "allmales['hispanic']=pd.read_excel(url+'/pinc08_2_1_9.xls', header=9)\n",
    "allmales['asian']=pd.read_excel(url+'/pinc08_2_1_8.xls', header=9)\n",
    "#allfemales['.....\n",
    "#[...]\n",
    "allfemales['all']=pd.read_excel(url+'/pinc08_3_1_1.xls',header=9)\n",
    "allfemales['white']=pd.read_excel(url+'/pinc08_3_1_4.xls', header=9)\n",
    "allfemales['black']=pd.read_excel(url+'/pinc08_3_1_6.xls', header=9)\n",
    "allfemales['hispanic']=pd.read_excel(url+'/pinc08_3_1_9.xls', header=9)\n",
    "allfemales['asian']=pd.read_excel(url+'/pinc08_3_1_8.xls', header=9)"
   ]
  },
  {
   "cell_type": "markdown",
   "metadata": {},
   "source": [
    "##exploratory phase"
   ]
  },
  {
   "cell_type": "code",
   "execution_count": 47,
   "metadata": {
    "collapsed": false
   },
   "outputs": [],
   "source": [
    "#lest see what is in the data\n",
    "from pandas.tools.plotting import scatter_matrix\n",
    "#scatter_matrix(...\n",
    "#like for the building homework: this fails cause the data is not parsed and formatted propoerly\n",
    "#so maybe just print the columns to find out\n",
    "#print allmales['all'].columns"
   ]
  },
  {
   "cell_type": "code",
   "execution_count": 48,
   "metadata": {
    "collapsed": false
   },
   "outputs": [
    {
     "name": "stderr",
     "output_type": "stream",
     "text": [
      "/Users/Yifan/anaconda/lib/python2.7/site-packages/ipykernel/__main__.py:9: SettingWithCopyWarning: \n",
      "A value is trying to be set on a copy of a slice from a DataFrame\n",
      "\n",
      "See the caveats in the documentation: http://pandas.pydata.org/pandas-docs/stable/indexing.html#indexing-view-versus-copy\n"
     ]
    }
   ],
   "source": [
    "#Another way to remove non real entries, is to use the np.isreal command, \n",
    "#i end up doing it in a for loop, which is ugly.\n",
    "#think about how you could improve on that if you already have coding experience\n",
    "#and are used to pythonic ways!\n",
    "for k in allmales:\n",
    "    nonreal  = allmales[k].applymap(np.isreal)\n",
    "    for c in allmales[k].columns :\n",
    "        if nonreal.sum()[c]>1 and nonreal.sum()[c]<49:\n",
    "            allmales[k][c][~nonreal[c]] = np.float('NaN')\n",
    "            allmales[k][c] = allmales[k][c].astype(float)    "
   ]
  },
  {
   "cell_type": "markdown",
   "metadata": {
    "collapsed": false
   },
   "source": [
    "now you can try again with the scatter matrix and see if there are any insightful correlations. \n",
    "please  make and comment the plot\n"
   ]
  },
  {
   "cell_type": "code",
   "execution_count": 8,
   "metadata": {
    "collapsed": true
   },
   "outputs": [],
   "source": [
    "#do the same for females\n",
    "#[...]"
   ]
  },
  {
   "cell_type": "markdown",
   "metadata": {},
   "source": [
    "##to see how the male and female income relate to each other plot the Total Median Income (from any source of revenue) of females vs the Total Median Income of males by race (one data point per race)\n",
    "\n",
    "##also plot the 1-1 line: the diagonal that corresponds to men and women getting the same pay\n",
    "(make the plot and describe it in a \"caption\" in the cell below the plot)"
   ]
  },
  {
   "cell_type": "code",
   "execution_count": 52,
   "metadata": {
    "collapsed": false
   },
   "outputs": [
    {
     "data": {
      "text/plain": [
       "[<matplotlib.lines.Line2D at 0x10bdb2090>]"
      ]
     },
     "execution_count": 52,
     "metadata": {},
     "output_type": "execute_result"
    },
    {
     "data": {
      "image/png": "[encoded data removed]",
      "text/plain": [
       "<matplotlib.figure.Figure at 0x10bb76110>"
      ]
     },
     "metadata": {},
     "output_type": "display_data"
    }
   ],
   "source": [
    "#female median income\n",
    "salfA = allfemales['all']['Median income'][1]\n",
    "salfW = allfemales['white']['Median income'][1]\n",
    "salfH = allfemales['hispanic']['Median income'][1]\n",
    "salfB = allfemales['white']['Median income'][1]\n",
    "salfY = allfemales['asian']['Median income'][1]\n",
    "#malse median income\n",
    "salmA = allmales['all']['Median income'][1]\n",
    "salmW = allmales['white']['Median income'][1]\n",
    "salmH = allmales['hispanic']['Median income'][1]\n",
    "salmB = allmales['white']['Median income'][1]\n",
    "salmY = allmales['asian']['Median income'][1]\n",
    "#plot all the female vs male median income dots\n",
    "plt.scatter(salfA, salmA, s=30, c='b', label='all')\n",
    "plt.scatter(salfW, salmW, s=30, c='grey', label='white')\n",
    "plt.scatter(salfH, salmH, s=30, c='magenta', label='hispanic')\n",
    "plt.scatter(salfB, salmB, s=30, c='black', label='black')\n",
    "plt.scatter(salfY, salmY, s=30, c='yellow', label='asian')\n",
    "plt.xlim((0, 50000))\n",
    "plt.ylim((0, 50000))\n",
    "plt.grid()\n",
    "plt.xlabel('female median income')\n",
    "plt.ylabel('male median income')\n",
    "plt.legend(loc=4)\n",
    "#plot the dividing line\n",
    "plt.plot((0,50000), (0,50000), 'r--')"
   ]
  },
  {
   "cell_type": "markdown",
   "metadata": {},
   "source": [
    "#Now fit it with a line!\n",
    "you can use statsmodels, or scipy, numpy, or create your own residual minimization function. \n",
    "if you want to use numpy (and you do not have to!) you can for example use \n",
    "\n",
    "\n",
    "pl.plot(newx,np.poly1d(np.ployfit(x,y,1))(newx)\n",
    "\n",
    "to make and plot the fit in one line (although this way you did not save the parameters so you need to rerun the function to get the slope and intercept ... :-/\n",
    "\n",
    "why not challenge yourself (if you want) and  create your own residual minimization function you can minimize it with scipy instead of a nested for loop (which is called 'brute force minimization')\n",
    "\n",
    "from scipy.optimize import minimize\n",
    "\n",
    "def line ().....\n",
    "    #this would be a function that creates a line given parameters, like we did in class\n",
    "    ...\n",
    "    return y\n",
    "def residuals(data, model, error=None):\n",
    "    #you can add errors if you want\n",
    "    you want to return the sum of the residuals (difference b/w data and model **2)\n",
    "    return residuals\n",
    "\n",
    "you need an initial guess for the parameters, where you start searching. it has to be a single variable, so for 2 parameters make a list of 2 elements. the numbers inside do not have to be 0 and 1 - but choose something not too crazy or your minimization will get lost!\n",
    "\n",
    "p0 = [0,1] \n",
    "\n",
    "result = minimize(residuals, p0, args=(all_males, all_females))\n",
    "\n",
    "in args i put all arguments of the function residuals that are not to be evaluated for the minimization (in this case the data)"
   ]
  },
  {
   "cell_type": "code",
   "execution_count": 35,
   "metadata": {
    "collapsed": false
   },
   "outputs": [
    {
     "name": "stdout",
     "output_type": "stream",
     "text": [
      "                            OLS Regression Results                            \n",
      "==============================================================================\n",
      "Dep. Variable:                      y   R-squared:                       0.977\n",
      "Model:                            OLS   Adj. R-squared:                  0.969\n",
      "Method:                 Least Squares   F-statistic:                     125.5\n",
      "Date:                Wed, 14 Oct 2015   Prob (F-statistic):            0.00152\n",
      "Time:                        16:48:42   Log-Likelihood:                -40.962\n",
      "No. Observations:                   5   AIC:                             85.92\n",
      "Df Residuals:                       3   BIC:                             85.14\n",
      "Df Model:                           1                                         \n",
      "Covariance Type:            nonrobust                                         \n",
      "==============================================================================\n",
      "                 coef    std err          t      P>|t|      [95.0% Conf. Int.]\n",
      "------------------------------------------------------------------------------\n",
      "x1             2.2576      0.202     11.204      0.002         1.616     2.899\n",
      "const      -1.446e+04   4550.784     -3.178      0.050     -2.89e+04    18.778\n",
      "==============================================================================\n",
      "Omnibus:                          nan   Durbin-Watson:                   2.393\n",
      "Prob(Omnibus):                    nan   Jarque-Bera (JB):                0.411\n",
      "Skew:                          -0.500   Prob(JB):                        0.814\n",
      "Kurtosis:                       2.012   Cond. No.                     2.04e+05\n",
      "==============================================================================\n",
      "\n",
      "Warnings:\n",
      "[1] Standard Errors assume that the covariance matrix of the errors is correctly specified.\n",
      "[2] The condition number is large, 2.04e+05. This might indicate that there are\n",
      "strong multicollinearity or other numerical problems.\n"
     ]
    },
    {
     "name": "stderr",
     "output_type": "stream",
     "text": [
      "/Users/Yifan/anaconda/lib/python2.7/site-packages/statsmodels/stats/stattools.py:72: UserWarning: omni_normtest is not valid with less than 8 observations; 5 samples were given.\n",
      "  \"samples were given.\" % int(n))\n"
     ]
    }
   ],
   "source": [
    "X = [salfA, salfW, salfH, salfB, salfY]\n",
    "Y = [salmA, salmW, salmH, salmB, salmY]\n",
    "X1 = api.add_constant(X, prepend = False)\n",
    "\n",
    "model1 = api.OLS(Y, X1).fit()\n",
    "print model1.summary()\n",
    "w1, w0 = model1.params"
   ]
  },
  {
   "cell_type": "code",
   "execution_count": 27,
   "metadata": {
    "collapsed": false
   },
   "outputs": [
    {
     "data": {
      "image/png": "[encoded data removed]",
      "text/plain": [
       "<matplotlib.figure.Figure at 0x108ff1950>"
      ]
     },
     "metadata": {},
     "output_type": "display_data"
    }
   ],
   "source": [
    "#fit and plot here\n",
    "#[...]\n",
    "plt.scatter(salfA, salmA, s=30, c='b', label='all')\n",
    "plt.scatter(salfW, salmW, s=30, c='grey', label='white')\n",
    "plt.scatter(salfH, salmH, s=30, c='magenta', label='hispanic')\n",
    "plt.scatter(salfB, salmB, s=30, c='black', label='black')\n",
    "plt.scatter(salfY, salmY, s=30, c='yellow', label='asian')\n",
    "plt.xlim((0, 50000))\n",
    "plt.ylim((0, 50000))\n",
    "plt.grid()\n",
    "plt.xlabel('female median income')\n",
    "plt.ylabel('male median income')\n",
    "plt.legend(loc=4)\n",
    "plt.plot((0,50000), (0,50000), 'r--')\n",
    "xl = np.arange(0,35000,1)\n"
   ]
  },
  {
   "cell_type": "markdown",
   "metadata": {},
   "source": [
    "##it turns out that there is an analytical solution for the OLS regression it is coded below. please try to read the code and understand the formula! \n"
   ]
  },
  {
   "cell_type": "code",
   "execution_count": 44,
   "metadata": {
    "collapsed": false
   },
   "outputs": [],
   "source": [
    "#this is the analytical best regression line. it can be proved (ask me about it if you want!)\n",
    "M = Y\n",
    "F = X\n",
    "cor = stats.spearmanr(M, F)\n",
    "np.std(M)/np.std(F)\n",
    "beta1=cor[0]*np.std(M)/np.std(F)\n",
    "beta0=np.mean(M)-beta1*np.mean(F)"
   ]
  },
  {
   "cell_type": "markdown",
   "metadata": {},
   "source": [
    "##and plot the line corresponding to the analytical regression to compare it with the result of your numerical one"
   ]
  },
  {
   "cell_type": "code",
   "execution_count": 37,
   "metadata": {
    "collapsed": false
   },
   "outputs": [],
   "source": [
    "#[...]\n"
   ]
  },
  {
   "cell_type": "markdown",
   "metadata": {},
   "source": [
    "#this was done with THE TOTAL MEDIAN INCOME, let's now see if all forms of income lead to a different fit. \n",
    "\n",
    "if you use one data point for source of income (along the 'Median income' column) and fit a line and the line fit is similar then the median income was representative fo all forms of income for this analysis\n",
    "\n",
    "to unravel the data and concatenate them back together in a single array is a little complex (there may be easier way, this is just wha i came up with. if you have something better please share!!)\n",
    "here ar a few lines of code that should do the trick. i used nu.concatenate to put together arrays (it takes a list of arrays) and np.flatten to make the array 1 dimensional after merging. i also masked the nan values. i used the numpy ma (masled array) package. ever array is associated by this package to a mask array of Bools [True....False...] of the same size. the "
   ]
  },
  {
   "cell_type": "code",
   "execution_count": 38,
   "metadata": {
    "collapsed": true
   },
   "outputs": [],
   "source": [
    "all_males=np.ma.array(np.concatenate([allmales['all']['Median income'][:].values,allmales['white']['Median income'][:].values,allmales['black']['Median income'][:].values,allmales['hispanic']['Median income'][:].values,allmales['asian']['Median income'][:].values]).flatten())\n",
    "\n",
    "all_females=np.ma.array(np.concatenate([allfemales['all']['Median income'][:].values,allfemales['white']['Median income'][:].values,allfemales['black']['Median income'][:].values,allfemales['hispanic']['Median income'][:].values,allfemales['asian']['Median income'][:].values]).flatten())\n",
    "\n",
    "#I am gonna create the mask int he next line. \n",
    "#the mask is True where either male or female value is Nan. \n",
    "#Notice that True is really just >1, and False really 0. \n",
    "#so i can add the male and female mask and the resulting mask will be \n",
    "#False where both arrays are not Nan, and true otherwise. \n",
    "\n",
    "allmask = [np.isnan(all_males) + np.isnan(all_females)]\n",
    "\n",
    "all_females.mask = allmask\n",
    "all_males.mask = allmask"
   ]
  },
  {
   "cell_type": "code",
   "execution_count": 39,
   "metadata": {
    "collapsed": true
   },
   "outputs": [],
   "source": [
    "#fit and plot [...]\n"
   ]
  },
  {
   "cell_type": "code",
   "execution_count": 40,
   "metadata": {
    "collapsed": true
   },
   "outputs": [],
   "source": [
    "#is the line fit similar? can you find any high legverage points?"
   ]
  },
  {
   "cell_type": "code",
   "execution_count": 13,
   "metadata": {
    "collapsed": false
   },
   "outputs": [],
   "source": [
    "##remove\n",
    "##this was my final plot. yours do not have to look like this, this is just an example\n",
    "#for your convenience."
   ]
  },
  {
   "cell_type": "code",
   "execution_count": null,
   "metadata": {
    "collapsed": false
   },
   "outputs": [],
   "source": [
    "\n"
   ]
  },
  {
   "cell_type": "markdown",
   "metadata": {},
   "source": [
    "##Now pick a stipend, maybe your ideal stipend? \n",
    "##and predict what a woman in a position where a man recieves your ideal stipend would make\n",
    "\n"
   ]
  },
  {
   "cell_type": "markdown",
   "metadata": {},
   "source": [
    "##lastly do you have any comments about what these data tell us about race? how you would go about analyzing race differences with these data? (just a few sentences)"
   ]
  },
  {
   "cell_type": "code",
   "execution_count": 55,
   "metadata": {
    "collapsed": false
   },
   "outputs": [
    {
     "data": {
      "text/plain": [
       "<matplotlib.collections.PathCollection at 0x10c557b50>"
      ]
     },
     "execution_count": 55,
     "metadata": {},
     "output_type": "execute_result"
    },
    {
     "data": {
      "image/png": "[encoded data removed]",
      "text/plain": [
       "<matplotlib.figure.Figure at 0x109000310>"
      ]
     },
     "metadata": {},
     "output_type": "display_data"
    }
   ],
   "source": [
    "pl.figure(figsize=(10,10))\n",
    "pl.xlim(0, 50000)\n",
    "pl.ylim(0, 50000)\n",
    "pl.xlabel('Man Median Income', size=10)\n",
    "pl.ylabel('Woman Median Income', size=10)\n",
    "pl.scatter(allmales['all']['Median income'][1], allfemales['all']['Median income'][1],s=100,c='red')\n",
    "pl.scatter(allmales['black']['Median income'][1], allfemales['black']['Median income'][1],s=100,c='yellow')\n",
    "pl.scatter(allmales['white']['Median income'][1], allfemales['white']['Median income'][1],s=100,c='blue')\n",
    "pl.scatter(allmales['asian']['Median income'][1], allfemales['asian']['Median income'][1],s=100,c='green')\n",
    "pl.scatter(allmales['hispanic']['Median income'][1], allfemales['hispanic']['Median income'][1],s=100,c='orange')"
   ]
  },
  {
   "cell_type": "code",
   "execution_count": null,
   "metadata": {
    "collapsed": true
   },
   "outputs": [],
   "source": []
  }
 ],
 "metadata": {
  "kernelspec": {
   "display_name": "Python 2",
   "language": "python",
   "name": "python2"
  },
  "language_info": {
   "codemirror_mode": {
    "name": "ipython",
    "version": 2
   },
   "file_extension": ".py",
   "mimetype": "text/x-python",
   "name": "python",
   "nbconvert_exporter": "python",
   "pygments_lexer": "ipython2",
   "version": "2.7.10"
  }
 },
 "nbformat": 4,
 "nbformat_minor": 0
}
